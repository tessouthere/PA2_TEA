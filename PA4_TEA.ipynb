{
 "cells": [
  {
   "cell_type": "markdown",
   "id": "8b5d0acd",
   "metadata": {},
   "source": [
    "# Working with Lists and Tuples\n",
    "## Programming Assignment 2 | Version 1\n",
    "### Tess Anderson\n",
    "#### CS-150-01 Fall 2022\n",
    "### a. Built-In Functions for Lists"
   ]
  },
  {
   "cell_type": "markdown",
   "id": "10e9c8c3",
   "metadata": {},
   "source": [
    "**i. the `append()` command adds an element to the end of a list**"
   ]
  },
  {
   "cell_type": "code",
   "execution_count": 35,
   "id": "dec85e66",
   "metadata": {},
   "outputs": [
    {
     "data": {
      "text/plain": [
       "['cheetah']"
      ]
     },
     "execution_count": 35,
     "metadata": {},
     "output_type": "execute_result"
    }
   ],
   "source": [
    "animals=[]\n",
    "animals.append('cheetah')\n",
    "animals"
   ]
  },
  {
   "cell_type": "markdown",
   "id": "8ef42850",
   "metadata": {},
   "source": [
    "**ii. the `extend()` command adds the specified list elements (or any iterable) to the end of the current list.**"
   ]
  },
  {
   "cell_type": "code",
   "execution_count": 36,
   "id": "3b20357a",
   "metadata": {},
   "outputs": [
    {
     "data": {
      "text/plain": [
       "['cheetah', 'dog', 'manatee', 'squirrel', 'porcupine']"
      ]
     },
     "execution_count": 36,
     "metadata": {},
     "output_type": "execute_result"
    }
   ],
   "source": [
    "more_animals=['dog','manatee','squirrel','porcupine']\n",
    "animals.extend(more_animals)\n",
    "animals"
   ]
  },
  {
   "cell_type": "markdown",
   "id": "cd83754f",
   "metadata": {},
   "source": [
    "**iii. the `insert()` command inserts the specified value at the specified position.**"
   ]
  },
  {
   "cell_type": "code",
   "execution_count": 37,
   "id": "bdc847e2",
   "metadata": {},
   "outputs": [
    {
     "data": {
      "text/plain": [
       "['cheetah', 'buffalo', 'dog', 'manatee', 'squirrel', 'porcupine']"
      ]
     },
     "execution_count": 37,
     "metadata": {},
     "output_type": "execute_result"
    }
   ],
   "source": [
    "animals.insert(1,'buffalo')\n",
    "animals"
   ]
  },
  {
   "cell_type": "markdown",
   "id": "70cd4c87",
   "metadata": {},
   "source": [
    "**iv. the `remove()` command removes the first occurrence of the element with the specified value.**"
   ]
  },
  {
   "cell_type": "code",
   "execution_count": 38,
   "id": "a47bd37f",
   "metadata": {},
   "outputs": [
    {
     "data": {
      "text/plain": [
       "['cheetah', 'buffalo', 'dog', 'manatee', 'squirrel']"
      ]
     },
     "execution_count": 38,
     "metadata": {},
     "output_type": "execute_result"
    }
   ],
   "source": [
    "animals.remove('porcupine')\n",
    "animals"
   ]
  },
  {
   "cell_type": "markdown",
   "id": "586c3901",
   "metadata": {},
   "source": [
    "**v. the `count()` command returns the number of elements with the specified value.**"
   ]
  },
  {
   "cell_type": "code",
   "execution_count": 39,
   "id": "34617ab8",
   "metadata": {},
   "outputs": [
    {
     "data": {
      "text/plain": [
       "17"
      ]
     },
     "execution_count": 39,
     "metadata": {},
     "output_type": "execute_result"
    }
   ],
   "source": [
    "votes=[1,1,1,1,0,1,0,0,1,0,0,1,0,1,0,0,0,0,0,0,0,1,1,1,0,1,0,1,0,0,1,1,0,1,0,1]\n",
    "votes.count(1)"
   ]
  },
  {
   "cell_type": "markdown",
   "id": "f840f556",
   "metadata": {},
   "source": [
    "**vi. the `index()` command returns the position at the first occurrence of the specified value.**"
   ]
  },
  {
   "cell_type": "code",
   "execution_count": 42,
   "id": "85c8a9f4",
   "metadata": {},
   "outputs": [
    {
     "data": {
      "text/plain": [
       "3"
      ]
     },
     "execution_count": 42,
     "metadata": {},
     "output_type": "execute_result"
    }
   ],
   "source": [
    "animals.index('manatee')"
   ]
  },
  {
   "cell_type": "markdown",
   "id": "16f53f7d",
   "metadata": {},
   "source": [
    "**vii. the `pop()` command removes the element at the specified position.**"
   ]
  },
  {
   "cell_type": "code",
   "execution_count": 43,
   "id": "d72843e8",
   "metadata": {},
   "outputs": [
    {
     "data": {
      "text/plain": [
       "['cheetah', 'buffalo', 'dog', 'manatee', 'squirrel']"
      ]
     },
     "execution_count": 43,
     "metadata": {},
     "output_type": "execute_result"
    }
   ],
   "source": [
    "animals"
   ]
  },
  {
   "cell_type": "code",
   "execution_count": 44,
   "id": "a45cff9b",
   "metadata": {},
   "outputs": [
    {
     "data": {
      "text/plain": [
       "'manatee'"
      ]
     },
     "execution_count": 44,
     "metadata": {},
     "output_type": "execute_result"
    }
   ],
   "source": [
    "animals.pop(3)"
   ]
  },
  {
   "cell_type": "code",
   "execution_count": 45,
   "id": "a393cffa",
   "metadata": {},
   "outputs": [
    {
     "data": {
      "text/plain": [
       "['cheetah', 'buffalo', 'dog', 'squirrel']"
      ]
     },
     "execution_count": 45,
     "metadata": {},
     "output_type": "execute_result"
    }
   ],
   "source": [
    "animals"
   ]
  },
  {
   "cell_type": "markdown",
   "id": "4f587280",
   "metadata": {},
   "source": [
    "**viii. the `sorted()` command returns a sorted list of the specified iterable object.**"
   ]
  },
  {
   "cell_type": "code",
   "execution_count": 48,
   "id": "f2d33096",
   "metadata": {},
   "outputs": [
    {
     "data": {
      "text/plain": [
       "['buffalo', 'cheetah', 'dog', 'squirrel']"
      ]
     },
     "execution_count": 48,
     "metadata": {},
     "output_type": "execute_result"
    }
   ],
   "source": [
    "sorted(animals)"
   ]
  },
  {
   "cell_type": "markdown",
   "id": "ca8b29a4",
   "metadata": {},
   "source": [
    "**ix. the `copy()` command returns a copy of the specified list.**"
   ]
  },
  {
   "cell_type": "code",
   "execution_count": 49,
   "id": "302f785a",
   "metadata": {},
   "outputs": [
    {
     "data": {
      "text/plain": [
       "['cheetah', 'buffalo', 'dog', 'squirrel']"
      ]
     },
     "execution_count": 49,
     "metadata": {},
     "output_type": "execute_result"
    }
   ],
   "source": [
    "animals.copy()"
   ]
  },
  {
   "cell_type": "markdown",
   "id": "94d27dfa",
   "metadata": {},
   "source": [
    "**x. the `clear()` command removes all the elements from a list.**"
   ]
  },
  {
   "cell_type": "code",
   "execution_count": 52,
   "id": "c4835536",
   "metadata": {},
   "outputs": [
    {
     "data": {
      "text/plain": [
       "[]"
      ]
     },
     "execution_count": 52,
     "metadata": {},
     "output_type": "execute_result"
    }
   ],
   "source": [
    "animals.clear()\n",
    "animals"
   ]
  },
  {
   "cell_type": "markdown",
   "id": "f4e87196",
   "metadata": {},
   "source": [
    "**xi. the `list()` function creates a list object. a list object is a collection which is ordered and changeable.**"
   ]
  },
  {
   "cell_type": "code",
   "execution_count": 55,
   "id": "79409046",
   "metadata": {},
   "outputs": [],
   "source": [
    "animals=list(('lion','badger','bullfrog'))"
   ]
  },
  {
   "cell_type": "code",
   "execution_count": 56,
   "id": "0398819d",
   "metadata": {},
   "outputs": [
    {
     "data": {
      "text/plain": [
       "['lion', 'badger', 'bullfrog']"
      ]
     },
     "execution_count": 56,
     "metadata": {},
     "output_type": "execute_result"
    }
   ],
   "source": [
    "animals"
   ]
  },
  {
   "cell_type": "markdown",
   "id": "7b377c1f",
   "metadata": {},
   "source": [
    "### b. Built-In Functions for Tuples"
   ]
  },
  {
   "cell_type": "markdown",
   "id": "64896e1b",
   "metadata": {},
   "source": [
    "**i. the `len()` command returns the number of items in an object. when the object is a string, len() returns the number of characters in the string.**"
   ]
  },
  {
   "cell_type": "code",
   "execution_count": 58,
   "id": "e977d31f",
   "metadata": {},
   "outputs": [
    {
     "data": {
      "text/plain": [
       "4"
      ]
     },
     "execution_count": 58,
     "metadata": {},
     "output_type": "execute_result"
    }
   ],
   "source": [
    "dogs=('golden retriever','laborador','pitbull','german shepard')\n",
    "len(dogs)"
   ]
  },
  {
   "cell_type": "code",
   "execution_count": 61,
   "id": "2ef0cc79",
   "metadata": {},
   "outputs": [
    {
     "data": {
      "text/plain": [
       "9"
      ]
     },
     "execution_count": 61,
     "metadata": {},
     "output_type": "execute_result"
    }
   ],
   "source": [
    "len(dogs[1])"
   ]
  },
  {
   "cell_type": "markdown",
   "id": "e4aacc22",
   "metadata": {},
   "source": [
    "**ii. the `max()` function returns the item with the highest value, or the item with the highest value in an iterable. if the values are strings, an alphabetically comparison is done.**"
   ]
  },
  {
   "cell_type": "code",
   "execution_count": 62,
   "id": "020ee378",
   "metadata": {},
   "outputs": [
    {
     "data": {
      "text/plain": [
       "'pitbull'"
      ]
     },
     "execution_count": 62,
     "metadata": {},
     "output_type": "execute_result"
    }
   ],
   "source": [
    "max(dogs)"
   ]
  },
  {
   "cell_type": "code",
   "execution_count": 63,
   "id": "8994df87",
   "metadata": {},
   "outputs": [
    {
     "data": {
      "text/plain": [
       "597"
      ]
     },
     "execution_count": 63,
     "metadata": {},
     "output_type": "execute_result"
    }
   ],
   "source": [
    "payments=(210,550,342,375,281,195,597,450,410,430,400,300,350)\n",
    "max(payments)"
   ]
  },
  {
   "cell_type": "markdown",
   "id": "0cc5502b",
   "metadata": {},
   "source": [
    "**iii. the `min()` function returns the item with the lowest value, or the item with the lowest value in an iterable.**"
   ]
  },
  {
   "cell_type": "code",
   "execution_count": 64,
   "id": "184b7732",
   "metadata": {},
   "outputs": [
    {
     "data": {
      "text/plain": [
       "195"
      ]
     },
     "execution_count": 64,
     "metadata": {},
     "output_type": "execute_result"
    }
   ],
   "source": [
    "min(payments)"
   ]
  }
 ],
 "metadata": {
  "kernelspec": {
   "display_name": "Python 3 (ipykernel)",
   "language": "python",
   "name": "python3"
  },
  "language_info": {
   "codemirror_mode": {
    "name": "ipython",
    "version": 3
   },
   "file_extension": ".py",
   "mimetype": "text/x-python",
   "name": "python",
   "nbconvert_exporter": "python",
   "pygments_lexer": "ipython3",
   "version": "3.9.12"
  }
 },
 "nbformat": 4,
 "nbformat_minor": 5
}
