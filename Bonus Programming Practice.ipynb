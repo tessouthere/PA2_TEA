{
 "cells": [
  {
   "cell_type": "code",
   "execution_count": 1,
   "id": "078b070f",
   "metadata": {},
   "outputs": [
    {
     "data": {
      "text/plain": [
       "('x-small', 'small', 'medium', 'large', 'x-large')"
      ]
     },
     "execution_count": 1,
     "metadata": {},
     "output_type": "execute_result"
    }
   ],
   "source": [
    "#tuple is immutible, so we cannot use reverse() or any command that requires changing the tuple.\n",
    "#we will instead slice it. the first two blank spaces tell python to consider each value in the tuple, and the -1 tells python to move from right to left and return each value in a new tuple. \n",
    "sizes=('x-small','small','medium','large','x-large')\n",
    "sizes"
   ]
  },
  {
   "cell_type": "code",
   "execution_count": 2,
   "id": "c6ea4a73",
   "metadata": {},
   "outputs": [
    {
     "data": {
      "text/plain": [
       "('x-large', 'large', 'medium', 'small', 'x-small')"
      ]
     },
     "execution_count": 2,
     "metadata": {},
     "output_type": "execute_result"
    }
   ],
   "source": [
    "sizes[::-1]"
   ]
  },
  {
   "cell_type": "code",
   "execution_count": 3,
   "id": "6bdc629d",
   "metadata": {},
   "outputs": [],
   "source": [
    "def rotate(any_tuple):\n",
    "    print(any_tuple[::-1])"
   ]
  },
  {
   "cell_type": "code",
   "execution_count": 4,
   "id": "01c9c506",
   "metadata": {},
   "outputs": [
    {
     "name": "stdout",
     "output_type": "stream",
     "text": [
      "('x-large', 'large', 'medium', 'small', 'x-small')\n"
     ]
    }
   ],
   "source": [
    "rotate(sizes)"
   ]
  },
  {
   "cell_type": "code",
   "execution_count": 5,
   "id": "054988d7",
   "metadata": {},
   "outputs": [],
   "source": [
    "colors=('red','orange','yellow','green','blue','purple')"
   ]
  },
  {
   "cell_type": "code",
   "execution_count": 6,
   "id": "edf5ae4e",
   "metadata": {},
   "outputs": [
    {
     "name": "stdout",
     "output_type": "stream",
     "text": [
      "('purple', 'blue', 'green', 'yellow', 'orange', 'red')\n"
     ]
    }
   ],
   "source": [
    "rotate(colors)"
   ]
  }
 ],
 "metadata": {
  "kernelspec": {
   "display_name": "Python 3 (ipykernel)",
   "language": "python",
   "name": "python3"
  },
  "language_info": {
   "codemirror_mode": {
    "name": "ipython",
    "version": 3
   },
   "file_extension": ".py",
   "mimetype": "text/x-python",
   "name": "python",
   "nbconvert_exporter": "python",
   "pygments_lexer": "ipython3",
   "version": "3.9.12"
  }
 },
 "nbformat": 4,
 "nbformat_minor": 5
}
